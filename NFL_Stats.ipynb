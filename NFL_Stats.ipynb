{
 "cells": [
  {
   "cell_type": "code",
   "execution_count": 2,
   "metadata": {
    "collapsed": false
   },
   "outputs": [],
   "source": [
    "#import everything\n",
    "import pandas as pd\n",
    "from pandas import DataFrame, Series\n",
    "import numpy as np\n",
    "import urllib2\n",
    "import matplotlib as plt\n",
    "from bs4 import BeautifulSoup\n",
    "from bs4.diagnose import diagnose\n",
    "from lxml import etree\n",
    "import requests"
   ]
  },
  {
   "cell_type": "code",
   "execution_count": 3,
   "metadata": {
    "collapsed": true
   },
   "outputs": [],
   "source": [
    "def get_site_html(url):\n",
    "    source = urllib2.urlopen(url).read()\n",
    "    return source"
   ]
  },
  {
   "cell_type": "code",
   "execution_count": 4,
   "metadata": {
    "collapsed": true
   },
   "outputs": [],
   "source": [
    "def get_tree(url):\n",
    "    source = get_site_html(url)\n",
    "    tree = BeautifulSoup(source,\"lxml\")\n",
    "    return tree"
   ]
  },
  {
   "cell_type": "code",
   "execution_count": 5,
   "metadata": {
    "collapsed": false
   },
   "outputs": [],
   "source": [
    "soup = get_tree('http://www.cbssports.com/nfl/stats/playersort/nfl/year-2015-season-regular-category-touchdowns')"
   ]
  },
  {
   "cell_type": "code",
   "execution_count": 25,
   "metadata": {
    "collapsed": false
   },
   "outputs": [
    {
     "name": "stdout",
     "output_type": "stream",
     "text": [
      "               Names Position Team Touchdowns\n",
      "0       Doug Baldwin       WR  SEA         13\n",
      "1      Odell Beckham       WR  NYG         13\n",
      "2     Allen Robinson       WR  JAC         13\n",
      "3       Tyler Eifert       TE  CIN         12\n",
      "4    Devonta Freeman       RB  ATL         12\n",
      "5      David Johnson       RB  ARI         12\n",
      "6     Rob Gronkowski       TE   NE         11\n",
      "7        Jeremy Hill       RB  CIN         11\n",
      "8   Brandon Marshall       WR  NYJ         11\n",
      "9       Tavon Austin       WR  STL         10\n",
      "10     Antonio Brown       WR  PIT         10\n",
      "11       Eric Decker       WR  NYJ         10\n",
      "12          Ted Ginn       WR  CAR         10\n",
      "13   DeAndre Hopkins       WR  HOU         10\n",
      "14     Gary Barnidge       TE  CLE          9\n",
      "15       Todd Gurley       RB  STL          9\n",
      "16      Lamar Miller       RB  MIA          9\n",
      "17   Adrian Peterson       RB  MIN          9\n",
      "18       Jordan Reed       TE  WAS          9\n",
      "19     Sammy Watkins       WR  BUF          9\n"
     ]
    }
   ],
   "source": [
    "count = 0\n",
    "Name = []\n",
    "Position = []\n",
    "Team = []\n",
    "Touchdowns = []\n",
    "for tr in soup.find_all('tr'):\n",
    "    if count >28:\n",
    "        break\n",
    "    else:\n",
    "        try:\n",
    "            Name.append(tr.contents[0].text)\n",
    "            Position.append(tr.contents[1].text)\n",
    "            Team.append(tr.contents[2].text)\n",
    "            Touchdowns.append(tr.contents[6].text)\n",
    "        except:\n",
    "            pass\n",
    "        count += 1\n",
    "mydata = DataFrame({'Names':Name[4:], 'Position':Position[3:], 'Team':Team[3:], 'Touchdowns':Touchdowns[1:]})\n",
    "print mydata"
   ]
  },
  {
   "cell_type": "code",
   "execution_count": null,
   "metadata": {
    "collapsed": true
   },
   "outputs": [],
   "source": []
  }
 ],
 "metadata": {
  "kernelspec": {
   "display_name": "Python 2",
   "language": "python",
   "name": "python2"
  },
  "language_info": {
   "codemirror_mode": {
    "name": "ipython",
    "version": 2
   },
   "file_extension": ".py",
   "mimetype": "text/x-python",
   "name": "python",
   "nbconvert_exporter": "python",
   "pygments_lexer": "ipython2",
   "version": "2.7.11"
  }
 },
 "nbformat": 4,
 "nbformat_minor": 0
}
