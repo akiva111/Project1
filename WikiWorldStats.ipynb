{
 "cells": [
  {
   "cell_type": "code",
   "execution_count": 1,
   "metadata": {
    "collapsed": false
   },
   "outputs": [],
   "source": [
    "#import everything\n",
    "import pandas as pd\n",
    "from pandas import DataFrame, Series\n",
    "import numpy as np\n",
    "import urllib2\n",
    "import matplotlib.pyplot as plt\n",
    "from bs4 import BeautifulSoup\n",
    "from bs4.diagnose import diagnose\n",
    "from lxml import etree\n",
    "import requests\n",
    "import bs4"
   ]
  },
  {
   "cell_type": "markdown",
   "metadata": {},
   "source": [
    "# Fetch world population statistics from Wikipedia\n",
    "**In this excercise, Wikipedia's population statistics will be parsed, cleaned and analysed.\n",
    "\n",
    "    1) Import the html and create a BS tree"
   ]
  },
  {
   "cell_type": "code",
   "execution_count": 2,
   "metadata": {
    "collapsed": false
   },
   "outputs": [],
   "source": [
    "url = ('https://en.wikipedia.org/wiki/List_of_countries_by_past,_current_and_future_population')\n",
    "def get_site_html(url):\n",
    "    source = urllib2.urlopen(url).read()\n",
    "    return source\n",
    "def get_tree(url):\n",
    "    source = get_site_html(url)\n",
    "    soup = BeautifulSoup(source, 'lxml')\n",
    "    return soup\n",
    "soup = get_tree(url)"
   ]
  },
  {
   "cell_type": "markdown",
   "metadata": {},
   "source": [
    "Extract the data from the tables and fill a DataFrame"
   ]
  },
  {
   "cell_type": "code",
   "execution_count": 5,
   "metadata": {
    "collapsed": false,
    "scrolled": false
   },
   "outputs": [
    {
     "data": {
      "text/html": [
       "<div>\n",
       "<table border=\"1\" class=\"dataframe\">\n",
       "  <thead>\n",
       "    <tr style=\"text-align: right;\">\n",
       "      <th></th>\n",
       "      <th>1950</th>\n",
       "      <th>1955</th>\n",
       "      <th>1960</th>\n",
       "      <th>1965</th>\n",
       "      <th>1970</th>\n",
       "      <th>1975</th>\n",
       "      <th>1980</th>\n",
       "    </tr>\n",
       "    <tr>\n",
       "      <th>Country</th>\n",
       "      <th></th>\n",
       "      <th></th>\n",
       "      <th></th>\n",
       "      <th></th>\n",
       "      <th></th>\n",
       "      <th></th>\n",
       "      <th></th>\n",
       "    </tr>\n",
       "  </thead>\n",
       "  <tbody>\n",
       "    <tr>\n",
       "      <th>Afghanistan</th>\n",
       "      <td>8,151</td>\n",
       "      <td>8,892</td>\n",
       "      <td>9,830</td>\n",
       "      <td>10,998</td>\n",
       "      <td>12,431</td>\n",
       "      <td>14,133</td>\n",
       "      <td>15,045</td>\n",
       "    </tr>\n",
       "    <tr>\n",
       "      <th>Albania</th>\n",
       "      <td>1,228</td>\n",
       "      <td>1,393</td>\n",
       "      <td>1,624</td>\n",
       "      <td>1,884</td>\n",
       "      <td>2,157</td>\n",
       "      <td>2,402</td>\n",
       "      <td>2,672</td>\n",
       "    </tr>\n",
       "    <tr>\n",
       "      <th>Algeria</th>\n",
       "      <td>8,893</td>\n",
       "      <td>9,842</td>\n",
       "      <td>10,910</td>\n",
       "      <td>11,964</td>\n",
       "      <td>13,932</td>\n",
       "      <td>16,141</td>\n",
       "      <td>18,807</td>\n",
       "    </tr>\n",
       "  </tbody>\n",
       "</table>\n",
       "</div>"
      ],
      "text/plain": [
       "              1950   1955    1960    1965    1970    1975    1980\n",
       "Country                                                          \n",
       "Afghanistan  8,151  8,892   9,830  10,998  12,431  14,133  15,045\n",
       "Albania      1,228  1,393   1,624   1,884   2,157   2,402   2,672\n",
       "Algeria      8,893  9,842  10,910  11,964  13,932  16,141  18,807"
      ]
     },
     "execution_count": 5,
     "metadata": {},
     "output_type": "execute_result"
    }
   ],
   "source": [
    "names = ['Country', '1950', '1960', '1965', '1970', '1975', '1980']\n",
    "tabulated_values = []\n",
    "for td in soup.find_all('tr'):\n",
    "    try:\n",
    "        tabulated_values.append(td.stripped_strings)\n",
    "    except:\n",
    "        pass    \n",
    "mydata = DataFrame(tabulated_values)#, index=None, columns=names) #reads data into pandas dataframe\n",
    "mydata = mydata.ix[0:686] #truncates irrelevant rows\n",
    "mydata = mydata.drop(mydata.columns[14:],axis=1)\n",
    "mydata = mydata.drop([0,4,6,8,10,12], axis=1)\n",
    "#rename the column headers\n",
    "mydata.rename(columns={1:'Country',2:'1950', 3:'1955', 5:'1960', 7:'1965', 9:'1970', 11:'1975', 13:'1980'}, inplace=True)\n",
    "mydata = mydata.ix[1:686]\n",
    "# set the country names as the index for plotting \n",
    "mydata = mydata.set_index('Country')\n",
    "mydata.head(3)"
   ]
  },
  {
   "cell_type": "markdown",
   "metadata": {},
   "source": [
    "## Convert the unicode values to 'float'"
   ]
  },
  {
   "cell_type": "code",
   "execution_count": 7,
   "metadata": {
    "collapsed": false
   },
   "outputs": [
    {
     "data": {
      "text/html": [
       "<div>\n",
       "<table border=\"1\" class=\"dataframe\">\n",
       "  <thead>\n",
       "    <tr style=\"text-align: right;\">\n",
       "      <th></th>\n",
       "      <th>1950</th>\n",
       "      <th>1955</th>\n",
       "      <th>1960</th>\n",
       "      <th>1965</th>\n",
       "      <th>1970</th>\n",
       "      <th>1975</th>\n",
       "      <th>1980</th>\n",
       "    </tr>\n",
       "    <tr>\n",
       "      <th>Country</th>\n",
       "      <th></th>\n",
       "      <th></th>\n",
       "      <th></th>\n",
       "      <th></th>\n",
       "      <th></th>\n",
       "      <th></th>\n",
       "      <th></th>\n",
       "    </tr>\n",
       "  </thead>\n",
       "  <tbody>\n",
       "    <tr>\n",
       "      <th>Afghanistan</th>\n",
       "      <td>8151</td>\n",
       "      <td>8892</td>\n",
       "      <td>9830</td>\n",
       "      <td>10998</td>\n",
       "      <td>12431</td>\n",
       "      <td>14133</td>\n",
       "      <td>15045</td>\n",
       "    </tr>\n",
       "    <tr>\n",
       "      <th>Albania</th>\n",
       "      <td>1228</td>\n",
       "      <td>1393</td>\n",
       "      <td>1624</td>\n",
       "      <td>1884</td>\n",
       "      <td>2157</td>\n",
       "      <td>2402</td>\n",
       "      <td>2672</td>\n",
       "    </tr>\n",
       "    <tr>\n",
       "      <th>Algeria</th>\n",
       "      <td>8893</td>\n",
       "      <td>9842</td>\n",
       "      <td>10910</td>\n",
       "      <td>11964</td>\n",
       "      <td>13932</td>\n",
       "      <td>16141</td>\n",
       "      <td>18807</td>\n",
       "    </tr>\n",
       "  </tbody>\n",
       "</table>\n",
       "</div>"
      ],
      "text/plain": [
       "             1950  1955   1960   1965   1970   1975   1980\n",
       "Country                                                   \n",
       "Afghanistan  8151  8892   9830  10998  12431  14133  15045\n",
       "Albania      1228  1393   1624   1884   2157   2402   2672\n",
       "Algeria      8893  9842  10910  11964  13932  16141  18807"
      ]
     },
     "execution_count": 7,
     "metadata": {},
     "output_type": "execute_result"
    }
   ],
   "source": [
    "def convert_to_float(x):\n",
    "    try:\n",
    "        # Replace commas and convert to float\n",
    "        return float(x.replace(',', ''))\n",
    "    except:\n",
    "        # There is some cell with a % sign in it, so just return instead of failing\n",
    "        return x\n",
    "\n",
    "# Apply the above function to every cell via applymap\n",
    "mydata = mydata.applymap(convert_to_float)\n",
    "mydata.head(3)"
   ]
  },
  {
   "cell_type": "code",
   "execution_count": 9,
   "metadata": {
    "collapsed": false
   },
   "outputs": [
    {
     "name": "stdout",
     "output_type": "stream",
     "text": [
      "         1950  1955  1960  1965  1970  1975  1980\n",
      "Country                                          \n",
      "Albania  1228  1393  1624  1884  2157  2402  2672\n",
      "Albania  2957  2.05  1.88 -0.54     0 -0.86 -0.25\n",
      "Albania  3075   0.3   0.2 -0.01 -0.26 -0.45 -0.55\n"
     ]
    },
    {
     "ename": "AttributeError",
     "evalue": "'DataFrame' object has no attribute 'name'",
     "output_type": "error",
     "traceback": [
      "\u001b[1;31m---------------------------------------------------------------------------\u001b[0m",
      "\u001b[1;31mAttributeError\u001b[0m                            Traceback (most recent call last)",
      "\u001b[1;32m<ipython-input-9-a58bc7f50af2>\u001b[0m in \u001b[0;36m<module>\u001b[1;34m()\u001b[0m\n\u001b[0;32m      1\u001b[0m \u001b[0mrow\u001b[0m \u001b[1;33m=\u001b[0m \u001b[0mmydata\u001b[0m\u001b[1;33m.\u001b[0m\u001b[0mix\u001b[0m\u001b[1;33m[\u001b[0m\u001b[1;34m'Albania'\u001b[0m\u001b[1;33m]\u001b[0m\u001b[1;33m\u001b[0m\u001b[0m\n\u001b[0;32m      2\u001b[0m \u001b[1;32mprint\u001b[0m \u001b[0mrow\u001b[0m\u001b[1;33m\u001b[0m\u001b[0m\n\u001b[1;32m----> 3\u001b[1;33m \u001b[0mplt\u001b[0m\u001b[1;33m.\u001b[0m\u001b[0mplot\u001b[0m\u001b[1;33m(\u001b[0m\u001b[0mrow\u001b[0m\u001b[1;33m.\u001b[0m\u001b[0mindex\u001b[0m\u001b[1;33m,\u001b[0m \u001b[0mrow\u001b[0m\u001b[1;33m,\u001b[0m \u001b[0mlabel\u001b[0m\u001b[1;33m=\u001b[0m\u001b[0mrow\u001b[0m\u001b[1;33m.\u001b[0m\u001b[0mname\u001b[0m\u001b[1;33m)\u001b[0m\u001b[1;33m\u001b[0m\u001b[0m\n\u001b[0m",
      "\u001b[1;32mC:\\Users\\Akiva\\Anaconda\\lib\\site-packages\\pandas\\core\\generic.pyc\u001b[0m in \u001b[0;36m__getattr__\u001b[1;34m(self, name)\u001b[0m\n\u001b[0;32m   2358\u001b[0m                 \u001b[1;32mreturn\u001b[0m \u001b[0mself\u001b[0m\u001b[1;33m[\u001b[0m\u001b[0mname\u001b[0m\u001b[1;33m]\u001b[0m\u001b[1;33m\u001b[0m\u001b[0m\n\u001b[0;32m   2359\u001b[0m             raise AttributeError(\"'%s' object has no attribute '%s'\" %\n\u001b[1;32m-> 2360\u001b[1;33m                                  (type(self).__name__, name))\n\u001b[0m\u001b[0;32m   2361\u001b[0m \u001b[1;33m\u001b[0m\u001b[0m\n\u001b[0;32m   2362\u001b[0m     \u001b[1;32mdef\u001b[0m \u001b[0m__setattr__\u001b[0m\u001b[1;33m(\u001b[0m\u001b[0mself\u001b[0m\u001b[1;33m,\u001b[0m \u001b[0mname\u001b[0m\u001b[1;33m,\u001b[0m \u001b[0mvalue\u001b[0m\u001b[1;33m)\u001b[0m\u001b[1;33m:\u001b[0m\u001b[1;33m\u001b[0m\u001b[0m\n",
      "\u001b[1;31mAttributeError\u001b[0m: 'DataFrame' object has no attribute 'name'"
     ]
    }
   ],
   "source": [
    "row = mydata.ix['Albania']\n",
    "print row\n",
    "plt.plot(row.index, row, label=row.name) "
   ]
  },
  {
   "cell_type": "code",
   "execution_count": 24,
   "metadata": {
    "collapsed": false
   },
   "outputs": [],
   "source": [
    "plotCountries = ['Austria', 'Germany', 'United States', 'France']\n",
    "    \n",
    "for country in plotCountries:\n",
    "    row = mydata.ix[country]\n",
    "    row.plot()\n",
    "#     plt.plot(row) \n",
    "    \n",
    "plt.ylim(ymin=0) # start y axis at 0\n",
    "\n",
    "plt.xticks(rotation=70)\n",
    "plt.legend(loc='best')\n",
    "plt.xlabel(\"Year\")\n",
    "plt.ylabel(\"# people (million)\")\n",
    "plt.title(\"Population of countries\")\n",
    "plt.show()"
   ]
  },
  {
   "cell_type": "code",
   "execution_count": null,
   "metadata": {
    "collapsed": true
   },
   "outputs": [],
   "source": []
  }
 ],
 "metadata": {
  "kernelspec": {
   "display_name": "Python 2",
   "language": "python",
   "name": "python2"
  },
  "language_info": {
   "codemirror_mode": {
    "name": "ipython",
    "version": 2
   },
   "file_extension": ".py",
   "mimetype": "text/x-python",
   "name": "python",
   "nbconvert_exporter": "python",
   "pygments_lexer": "ipython2",
   "version": "2.7.11"
  }
 },
 "nbformat": 4,
 "nbformat_minor": 0
}
